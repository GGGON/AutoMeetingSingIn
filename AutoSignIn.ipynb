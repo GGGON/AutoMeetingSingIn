{
 "cells": [
  {
   "cell_type": "code",
   "execution_count": 2,
   "id": "4fc3cc98-0858-4b3a-b35c-16dc8cbf4dab",
   "metadata": {},
   "outputs": [],
   "source": [
    "import os\n",
    "import pandas as pd\n",
    "import pyautogui\n",
    "import time\n",
    "from datetime import datetime\n",
    "import cv2"
   ]
  },
  {
   "cell_type": "code",
   "execution_count": 57,
   "id": "9ec7540e-4d0e-459a-bdb4-076669fc1c2e",
   "metadata": {},
   "outputs": [],
   "source": [
    "def ImgAutoClick(tempFile, whatDo, debug=False):\n",
    "    pyautogui.screenshot('screen.png')\n",
    "    gray = cv2.imread('screen.png', 0)\n",
    "    img_templete = cv2.imread(tempFile, 0)\n",
    "    w, h = img_templete.shape[::-1]\n",
    "    res = cv2.matchTemplate(gray, img_templete, cv2.TM_SQDIFF)\n",
    "    min_val, max_val, min_loc, max_loc = cv2.minMaxLoc(res)\n",
    "    top = min_loc[0]\n",
    "    left = min_loc[1]\n",
    "    x = [top, left, w, h]\n",
    "    top_left = min_loc\n",
    "    bottom_right = (top_left[0] + w, top_left[1] + h)\n",
    "    pyautogui.moveTo(top+h/2, left+w/2)\n",
    "    if(min_val < 1000):\n",
    "        whatDo(x)\n",
    "    else:\n",
    "        return False\n",
    "\n",
    "    if debug:\n",
    "        img = cv2.imread(\"screen.png\",1)\n",
    "        cv2.rectangle(img,top_left, bottom_right, (0,0,255), 2)\n",
    "        img = cv2.resize(img, (0, 0), fx=0.5, fy=0.5, interpolation=cv2.INTER_NEAREST)\n",
    "        cv2.imshow(\"processed\",img)\n",
    "        cv2.waitKey(0)\n",
    "        cv2.destroyAllWindows()\n",
    "    os.remove(\"screen.png\")\n",
    "    \n",
    "    return True"
   ]
  },
  {
   "cell_type": "code",
   "execution_count": 58,
   "id": "03e8818d-7178-4c50-b8b6-9925927b5e6b",
   "metadata": {},
   "outputs": [],
   "source": [
    "def SignIn(meeting_id, password):\n",
    "    os.startfile(\"D:\\gongju\\wemeetapp.exe\")\n",
    "    time.sleep(7)\n",
    "    ImgAutoClick(\"JoinMeeting.png\", pyautogui.click, False)\n",
    "    time.sleep(1)\n",
    "    ImgAutoClick(\"meeting_id.png\", pyautogui.click, False)\n",
    "    time.sleep(2)\n",
    "    pyautogui.write(meeting_id)\n",
    "    time.sleep(2)\n",
    "    ImgAutoClick(\"final.png\", pyautogui.click, False)\n",
    "    time.sleep(1)\n",
    "    res = ImgAutoClick(\"password.png\", pyautogui.moveTo, False)\n",
    "    if res:\n",
    "        pyautogui.write(password)\n",
    "        time.sleep(1)\n",
    "        ImgAutoClick(\"passwordJoin.png\", pyautogui.click, False)\n",
    "        time.sleep(1)\n",
    "    "
   ]
  },
  {
   "cell_type": "code",
   "execution_count": 56,
   "id": "fbd6f838-3fc0-4b05-94ed-217ac22d9d96",
   "metadata": {},
   "outputs": [
    {
     "name": "stdout",
     "output_type": "stream",
     "text": [
      "Sign In!\n"
     ]
    }
   ],
   "source": [
    "while True:\n",
    "    now = datetime.now().strftime(\"%m-%d-%H:%M\")\n",
    "    meeting_id = \"699 9424 7183\"\n",
    "    password = \"4012\"\n",
    "    if now == \"03-30-11:44\":\n",
    "        SignIn(meeting_id, password)\n",
    "        print(\"Sign In!\")\n",
    "        break"
   ]
  }
 ],
 "metadata": {
  "kernelspec": {
   "display_name": "Python 3 (ipykernel)",
   "language": "python",
   "name": "python3"
  },
  "language_info": {
   "codemirror_mode": {
    "name": "ipython",
    "version": 3
   },
   "file_extension": ".py",
   "mimetype": "text/x-python",
   "name": "python",
   "nbconvert_exporter": "python",
   "pygments_lexer": "ipython3",
   "version": "3.8.5"
  }
 },
 "nbformat": 4,
 "nbformat_minor": 5
}
